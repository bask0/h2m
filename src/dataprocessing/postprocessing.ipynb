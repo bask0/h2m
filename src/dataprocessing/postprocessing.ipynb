{
 "cells": [
  {
   "cell_type": "code",
   "execution_count": 34,
   "metadata": {},
   "outputs": [],
   "source": [
    "import xarray as xr\n",
    "import numpy as np\n",
    "import sys\n",
    "import os\n",
    "\n",
    "import matplotlib.pyplot as plt"
   ]
  },
  {
   "cell_type": "code",
   "execution_count": 155,
   "metadata": {},
   "outputs": [],
   "source": [
    "def interpolate_nan(ds, dims=('lat', 'lon'), use_landmask=True, **kwargs):\n",
    "    if isinstance(dims, str):\n",
    "        dims = [dims]\n",
    "    for dim in dims:\n",
    "        ds = ds.interpolate_na(dim, use_coordinate=False, **kwargs)\n",
    "    if use_landmask:\n",
    "        land_mask = (xr.open_zarr('/scratch/hydrodl/data/bucket.zarr/mask/').data>0)\n",
    "        #ds = ds.where(land_mask)\n",
    "        ds.values[~land_mask.values] = np.nan\n",
    "    return ds"
   ]
  },
  {
   "cell_type": "code",
   "execution_count": 149,
   "metadata": {},
   "outputs": [
    {
     "name": "stdout",
     "output_type": "stream",
     "text": [
      "3.19 s ± 28 ms per loop (mean ± std. dev. of 7 runs, 1 loop each)\n"
     ]
    }
   ],
   "source": [
    "%%timeit\n",
    "interpolate_nan(ds).compute()"
   ]
  },
  {
   "cell_type": "code",
   "execution_count": 154,
   "metadata": {},
   "outputs": [
    {
     "name": "stdout",
     "output_type": "stream",
     "text": [
      "34.3 ms ± 3.97 ms per loop (mean ± std. dev. of 7 runs, 10 loops each)\n"
     ]
    }
   ],
   "source": [
    "%%timeit\n",
    "interpolate_nan(ds, use_landmask=False).compute()"
   ]
  },
  {
   "cell_type": "code",
   "execution_count": 157,
   "metadata": {},
   "outputs": [
    {
     "name": "stdout",
     "output_type": "stream",
     "text": [
      "2.36 s ± 23.6 ms per loop (mean ± std. dev. of 7 runs, 1 loop each)\n"
     ]
    }
   ],
   "source": [
    "%%timeit\n",
    "interpolate_nan(ds).compute()"
   ]
  },
  {
   "cell_type": "code",
   "execution_count": null,
   "metadata": {},
   "outputs": [],
   "source": [
    "ds.interpolate_na()"
   ]
  },
  {
   "cell_type": "code",
   "execution_count": 8,
   "metadata": {},
   "outputs": [],
   "source": [
    "import xarray as xr\n",
    "import numpy as np\n",
    "import sys\n",
    "import os"
   ]
  },
  {
   "cell_type": "code",
   "execution_count": 9,
   "metadata": {},
   "outputs": [],
   "source": [
    "sys.path.append('/workspace/hydrodl/src/')\n",
    "#from utils.cdo_wrappers import cdo_gridbox\n",
    "#from utils.plotting import plot_map, subplots_robinson, plot_hexbin, set_share_axes\n",
    "#from utils.pyutils import ProgressBar\n",
    "#from utils.metrics import get_metrics, weighted_avg_and_std, global_cell_size, xr_quantile\n",
    "from utils.parallel import parcall"
   ]
  },
  {
   "cell_type": "code",
   "execution_count": 10,
   "metadata": {},
   "outputs": [],
   "source": [
    "from utils.data_postprocessing import postprocess"
   ]
  },
  {
   "cell_type": "code",
   "execution_count": 11,
   "metadata": {},
   "outputs": [
    {
     "name": "stderr",
     "output_type": "stream",
     "text": [
      "2020-07-06 16:00:14,204\tINFO resource_spec.py:212 -- Starting Ray with 319.43 GiB memory available for workers and up to 140.91 GiB for objects. You can adjust these settings with ray.init(memory=<bytes>, object_store_memory=<bytes>).\n"
     ]
    },
    {
     "name": "stdout",
     "output_type": "stream",
     "text": [
      "2020-07-06 16:00:14 - Parallel execution of function `coords2samp` using 6 CPUs with 15 total runs.\n"
     ]
    },
    {
     "name": "stderr",
     "output_type": "stream",
     "text": [
      "2020-07-06 16:00:14,548\tWARNING services.py:939 -- Redis failed to start, retrying now.\n",
      "2020-07-06 16:00:14,865\tINFO services.py:1181 -- View the Ray dashboard at \u001b[1m\u001b[32mlocalhost:8265\u001b[39m\u001b[22m\n",
      "2020-07-06 16:00:15,820\tWARNING worker.py:1047 -- Failed to unpickle the remote function 'utils.parallel.remote_fun' with function ID 8ec3fb0b1422e237f93b667cfe92195fffc37fce. Traceback:\n",
      "Traceback (most recent call last):\n",
      "  File \"/opt/conda/lib/python3.6/site-packages/ray/function_manager.py\", line 177, in fetch_and_register_remote_function\n",
      "    function = pickle.loads(serialized_function)\n",
      "ModuleNotFoundError: No module named 'utils'\n",
      "\n",
      "2020-07-06 16:00:15,832\tWARNING worker.py:1047 -- Failed to unpickle the remote function 'utils.parallel.remote_fun' with function ID 8ec3fb0b1422e237f93b667cfe92195fffc37fce. Traceback:\n",
      "Traceback (most recent call last):\n",
      "  File \"/opt/conda/lib/python3.6/site-packages/ray/function_manager.py\", line 177, in fetch_and_register_remote_function\n",
      "    function = pickle.loads(serialized_function)\n",
      "ModuleNotFoundError: No module named 'utils'\n",
      "\n",
      "2020-07-06 16:00:15,884\tWARNING worker.py:1047 -- Failed to unpickle the remote function 'utils.parallel.remote_fun' with function ID 8ec3fb0b1422e237f93b667cfe92195fffc37fce. Traceback:\n",
      "Traceback (most recent call last):\n",
      "  File \"/opt/conda/lib/python3.6/site-packages/ray/function_manager.py\", line 177, in fetch_and_register_remote_function\n",
      "    function = pickle.loads(serialized_function)\n",
      "ModuleNotFoundError: No module named 'utils'\n",
      "\n",
      "2020-07-06 16:00:15,885\tWARNING worker.py:1047 -- Failed to unpickle the remote function 'utils.parallel.remote_fun' with function ID 8ec3fb0b1422e237f93b667cfe92195fffc37fce. Traceback:\n",
      "Traceback (most recent call last):\n",
      "  File \"/opt/conda/lib/python3.6/site-packages/ray/function_manager.py\", line 177, in fetch_and_register_remote_function\n",
      "    function = pickle.loads(serialized_function)\n",
      "ModuleNotFoundError: No module named 'utils'\n",
      "\n",
      "2020-07-06 16:00:15,927\tWARNING worker.py:1047 -- Failed to unpickle the remote function 'utils.parallel.remote_fun' with function ID 8ec3fb0b1422e237f93b667cfe92195fffc37fce. Traceback:\n",
      "Traceback (most recent call last):\n",
      "  File \"/opt/conda/lib/python3.6/site-packages/ray/function_manager.py\", line 177, in fetch_and_register_remote_function\n",
      "    function = pickle.loads(serialized_function)\n",
      "ModuleNotFoundError: No module named 'utils'\n",
      "\n"
     ]
    },
    {
     "name": "stdout",
     "output_type": "stream",
     "text": [
      "\u001b[2m\u001b[33m(pid=raylet)\u001b[0m I0706 16:00:14.973152 77695 77695 store_runner.cc:44] Allowing the Plasma store to use up to 151.296GB of memory.\n",
      "\u001b[2m\u001b[33m(pid=raylet)\u001b[0m I0706 16:00:14.973237 77695 77695 store_runner.cc:58] Starting object store with directory /dev/shm and huge page support dismelted\n",
      "\u001b[2m\u001b[33m(pid=raylet)\u001b[0m I0706 16:00:14.974669 77695 77695 grpc_server.cc:74] ObjectManager server started, listening on port 41693.\n",
      "\u001b[2m\u001b[33m(pid=raylet)\u001b[0m I0706 16:00:14.979892 77695 77695 node_manager.cc:166] Initializing NodeManager with ID 38adaed3147ca4ae5e13cbac06a5cb3d38bef00c\n",
      "\u001b[2m\u001b[33m(pid=raylet)\u001b[0m I0706 16:00:14.980429 77695 77695 grpc_server.cc:74] NodeManager server started, listening on port 55476.\n",
      "\u001b[2m\u001b[33m(pid=raylet)\u001b[0m I0706 16:00:14.985289 77695 77695 service_based_accessor.cc:739] Received notification for node id = 38adaed3147ca4ae5e13cbac06a5cb3d38bef00c, IsAlive = 1\n",
      "\u001b[2m\u001b[33m(pid=raylet)\u001b[0m I0706 16:00:14.986171 77695 77695 service_based_accessor.cc:739] Received notification for node id = 38adaed3147ca4ae5e13cbac06a5cb3d38bef00c, IsAlive = 1\n"
     ]
    },
    {
     "name": "stderr",
     "output_type": "stream",
     "text": [
      "2020-07-06 16:00:15,980\tWARNING worker.py:1047 -- Failed to unpickle the remote function 'utils.parallel.remote_fun' with function ID 8ec3fb0b1422e237f93b667cfe92195fffc37fce. Traceback:\n",
      "Traceback (most recent call last):\n",
      "  File \"/opt/conda/lib/python3.6/site-packages/ray/function_manager.py\", line 177, in fetch_and_register_remote_function\n",
      "    function = pickle.loads(serialized_function)\n",
      "ModuleNotFoundError: No module named 'utils'\n",
      "\n",
      "2020-07-06 16:00:16,517\tWARNING worker.py:1047 -- Failed to unpickle the remote function 'utils.parallel.remote_fun' with function ID 8ec3fb0b1422e237f93b667cfe92195fffc37fce. Traceback:\n",
      "Traceback (most recent call last):\n",
      "  File \"/opt/conda/lib/python3.6/site-packages/ray/function_manager.py\", line 177, in fetch_and_register_remote_function\n",
      "    function = pickle.loads(serialized_function)\n",
      "ModuleNotFoundError: No module named 'utils'\n",
      "\n"
     ]
    },
    {
     "name": "stdout",
     "output_type": "stream",
     "text": [
      "2020-07-06 16:00:18 - Done, elapsed time: 0 m 4 s (0 m 0 s per call).\n"
     ]
    },
    {
     "ename": "RayTaskError(RuntimeError)",
     "evalue": "\u001b[36mray::utils.parallel.remote_fun()\u001b[39m (pid=77708, ip=172.17.0.2)\n  File \"python/ray/_raylet.pyx\", line 446, in ray._raylet.execute_task\nRuntimeError: This function was not imported properly.",
     "output_type": "error",
     "traceback": [
      "\u001b[0;31m---------------------------------------------------------------------------\u001b[0m",
      "\u001b[0;31mRayTaskError(RuntimeError)\u001b[0m                Traceback (most recent call last)",
      "\u001b[0;32m<ipython-input-11-5344e5d7de9b>\u001b[0m in \u001b[0;36m<module>\u001b[0;34m\u001b[0m\n\u001b[0;32m----> 1\u001b[0;31m \u001b[0mpostprocess\u001b[0m\u001b[0;34m(\u001b[0m\u001b[0;34m)\u001b[0m\u001b[0;34m\u001b[0m\u001b[0;34m\u001b[0m\u001b[0m\n\u001b[0m",
      "\u001b[0;32m~/hydrodl/src/utils/data_postprocessing.py\u001b[0m in \u001b[0;36mpostprocess\u001b[0;34m()\u001b[0m\n\u001b[1;32m    191\u001b[0m     \u001b[0mpathiter\u001b[0m \u001b[0;34m=\u001b[0m \u001b[0mPathIter\u001b[0m\u001b[0;34m(\u001b[0m\u001b[0mpred_path\u001b[0m\u001b[0;34m)\u001b[0m\u001b[0;34m\u001b[0m\u001b[0;34m\u001b[0m\u001b[0m\n\u001b[1;32m    192\u001b[0m     parcall(coords2samp, paths, cr=cr, num_cpus=6,\n\u001b[0;32m--> 193\u001b[0;31m             write_file=True, chunks={'time': 400})\n\u001b[0m\u001b[1;32m    194\u001b[0m     ds = [xr.open_mfdataset(p, combine='by_coords', preprocess=preproc_aggr, chunks={\n\u001b[1;32m    195\u001b[0m                             'time': 400}) for p in pathiter.iter_offsets('daily_predregions.nc')]\n",
      "\u001b[0;32m~/hydrodl/src/utils/parallel.py\u001b[0m in \u001b[0;36mparcall\u001b[0;34m(fun, iter_kwargs, num_cpus, verbose, dry_run, ray_init_kwargs, **kwargs)\u001b[0m\n\u001b[1;32m     93\u001b[0m             \u001b[0mray\u001b[0m\u001b[0;34m.\u001b[0m\u001b[0minit\u001b[0m\u001b[0;34m(\u001b[0m\u001b[0mnum_cpus\u001b[0m\u001b[0;34m=\u001b[0m\u001b[0mnum_cpus\u001b[0m\u001b[0;34m,\u001b[0m \u001b[0;34m**\u001b[0m\u001b[0mray_init_kwargs\u001b[0m\u001b[0;34m)\u001b[0m\u001b[0;34m\u001b[0m\u001b[0;34m\u001b[0m\u001b[0m\n\u001b[1;32m     94\u001b[0m             results = ray.get(\n\u001b[0;32m---> 95\u001b[0;31m                 \u001b[0;34m[\u001b[0m\u001b[0mremote_fun\u001b[0m\u001b[0;34m.\u001b[0m\u001b[0mremote\u001b[0m\u001b[0;34m(\u001b[0m\u001b[0;34m{\u001b[0m\u001b[0;34m**\u001b[0m\u001b[0ma\u001b[0m\u001b[0;34m,\u001b[0m \u001b[0;34m**\u001b[0m\u001b[0mkwargs\u001b[0m\u001b[0;34m}\u001b[0m\u001b[0;34m)\u001b[0m \u001b[0;32mfor\u001b[0m \u001b[0ma\u001b[0m \u001b[0;32min\u001b[0m \u001b[0miter_kwargs\u001b[0m\u001b[0;34m]\u001b[0m\u001b[0;34m\u001b[0m\u001b[0;34m\u001b[0m\u001b[0m\n\u001b[0m\u001b[1;32m     96\u001b[0m             )\n\u001b[1;32m     97\u001b[0m             \u001b[0;32mreturn\u001b[0m \u001b[0mresults\u001b[0m\u001b[0;34m\u001b[0m\u001b[0;34m\u001b[0m\u001b[0m\n",
      "\u001b[0;32m/opt/conda/lib/python3.6/site-packages/ray/worker.py\u001b[0m in \u001b[0;36mget\u001b[0;34m(object_ids, timeout)\u001b[0m\n\u001b[1;32m   1472\u001b[0m                     \u001b[0mworker\u001b[0m\u001b[0;34m.\u001b[0m\u001b[0mcore_worker\u001b[0m\u001b[0;34m.\u001b[0m\u001b[0mdump_object_store_memory_usage\u001b[0m\u001b[0;34m(\u001b[0m\u001b[0;34m)\u001b[0m\u001b[0;34m\u001b[0m\u001b[0;34m\u001b[0m\u001b[0m\n\u001b[1;32m   1473\u001b[0m                 \u001b[0;32mif\u001b[0m \u001b[0misinstance\u001b[0m\u001b[0;34m(\u001b[0m\u001b[0mvalue\u001b[0m\u001b[0;34m,\u001b[0m \u001b[0mRayTaskError\u001b[0m\u001b[0;34m)\u001b[0m\u001b[0;34m:\u001b[0m\u001b[0;34m\u001b[0m\u001b[0;34m\u001b[0m\u001b[0m\n\u001b[0;32m-> 1474\u001b[0;31m                     \u001b[0;32mraise\u001b[0m \u001b[0mvalue\u001b[0m\u001b[0;34m.\u001b[0m\u001b[0mas_instanceof_cause\u001b[0m\u001b[0;34m(\u001b[0m\u001b[0;34m)\u001b[0m\u001b[0;34m\u001b[0m\u001b[0;34m\u001b[0m\u001b[0m\n\u001b[0m\u001b[1;32m   1475\u001b[0m                 \u001b[0;32melse\u001b[0m\u001b[0;34m:\u001b[0m\u001b[0;34m\u001b[0m\u001b[0;34m\u001b[0m\u001b[0m\n\u001b[1;32m   1476\u001b[0m                     \u001b[0;32mraise\u001b[0m \u001b[0mvalue\u001b[0m\u001b[0;34m\u001b[0m\u001b[0;34m\u001b[0m\u001b[0m\n",
      "\u001b[0;31mRayTaskError(RuntimeError)\u001b[0m: \u001b[36mray::utils.parallel.remote_fun()\u001b[39m (pid=77708, ip=172.17.0.2)\n  File \"python/ray/_raylet.pyx\", line 446, in ray._raylet.execute_task\nRuntimeError: This function was not imported properly."
     ]
    }
   ],
   "source": [
    "postprocess()"
   ]
  },
  {
   "cell_type": "code",
   "execution_count": 3,
   "metadata": {},
   "outputs": [],
   "source": [
    "def add_msc_and_ano(ds, timescale='month', variables=['mod', 'obs'], label_months=True, add_yano=True):\n",
    "    if variables == 'all':\n",
    "        variables = list(ds.data_vars)\n",
    "    for v in variables:\n",
    "        msc = ds[v].groupby('time.' + timescale).mean('time', keep_attrs=True).compute()\n",
    "        ano = (ds[v].groupby('time.' + timescale) - msc).compute()\n",
    "        if timescale == 'month':\n",
    "            if label_months:\n",
    "                msc['month'] = ['Jan', 'Feb', 'Mar', 'Apr', 'May', 'Jun', 'Jul', 'Aug', 'Sep', 'Oct', 'Nov', 'Dec']\n",
    "            else:\n",
    "                msc['month'] = np.arange(1, 13)\n",
    "        ds[v + '_msc'] = msc\n",
    "        ds[v + '_ano'] = ano\n",
    "        if add_yano:\n",
    "            yearly = ds[v].groupby('time.year').mean('time', keep_attrs=True).compute()\n",
    "            yearly -= yearly.mean('year', keep_attrs=True).compute()\n",
    "            ds[v + '_yano'] = yearly\n",
    "        ds[v + '_ano'].attrs = ds[v].attrs\n",
    "        ds[v + '_msc'].attrs = ds[v].attrs\n",
    "        ds[v + '_yano'].attrs = ds[v].attrs\n",
    "    return ds\n",
    "\n",
    "def subset_region(ds, r, region=['Subtropic', 'TemperateNH', 'Tropic', 'ColdNH', 'SH']):\n",
    "    \"\"\"Subset dataset bt a regional mask.\n",
    "\n",
    "    Sets all values outside regions to np.nan.\n",
    "\n",
    "    Parameters\n",
    "    ----------\n",
    "    ds: xarray.DataArray or xarray.Dataset\n",
    "        The dataset to subset.\n",
    "    regions : str or list of str\n",
    "        The region name to select. If `region` is a list, an xarray.Dataset with\n",
    "        a new dimension corresponding to the region names will be returned. If\n",
    "        region is a string, an xarray.Dataset is returned.\n",
    "    r : xr.Dataset\n",
    "        The regions.\n",
    "\n",
    "    Returns\n",
    "    -------\n",
    "    xarray.Dataset or xarray.DataArray\n",
    "\n",
    "    \"\"\"\n",
    "    return ds.where(r[region], np.nan)\n",
    "\n",
    "text_box = dict(facecolor='white', edgecolor='none', pad=0, alpha=.8)\n",
    "\n",
    "def plot_ts(ts, cr, path=None):\n",
    "    with warnings.catch_warnings():\n",
    "        warnings.simplefilter(\"ignore\")\n",
    "\n",
    "        if ts == 'raw':\n",
    "            ts = ''\n",
    "            label = 'monthly time-series'\n",
    "        elif ts == 'ano':\n",
    "            ts = '_ano'\n",
    "            label = 'monthly anomalies'\n",
    "        elif ts == 'msc':\n",
    "            ts = '_msc'\n",
    "            label = 'monthly seasonality'\n",
    "        else:\n",
    "            raise ValueError(f'ts `{ts}` not supported, use one of (`raw`, `msc`, `ano`)')\n",
    "\n",
    "        fig, ax = plt.subplots(5, 5, figsize=(17, 8), sharey='row', sharex=True, gridspec_kw={'wspace': 0.04, 'hspace': 0})\n",
    "\n",
    "        for i, (ds, var) in enumerate(zip([swe, et, q, tws], ['swe', 'et', 'q', 'tws'])):\n",
    "\n",
    "            ax[i, 0].xaxis.set_tick_params(which='both', labelleft=True)\n",
    "\n",
    "            units = f\" [{ds.obs.attrs.get('units', '-')}]\"\n",
    "\n",
    "            time = ds.month.values if ts == '_msc' else ds.time.values\n",
    "\n",
    "            ds = add_msc_and_ano(ds[['obs', 'mod']])\n",
    "\n",
    "            obs_var = 'obs' + ts\n",
    "            mod_var = 'mod' + ts\n",
    "\n",
    "            for k, region in enumerate(regions):\n",
    "                dsh = subset_region(ds, cr, region)\n",
    "                dsh_m = dsh.mean(dim=('lat', 'lon'))\n",
    "                dsh_q = dsh.quantile([0.2, 0.8], dim=('lat', 'lon'))\n",
    "\n",
    "                dsh_m_obs = dsh_m[obs_var]\n",
    "                dsh_m_mod = dsh_m[mod_var]\n",
    "\n",
    "                cor = np.corrcoef(dsh_m_obs, dsh_m_mod)[0, 1]\n",
    "                mef = (1 - np.sum(np.power(dsh_m_mod - dsh_m_obs, 2)) / np.sum(np.power(dsh_m_obs - np.mean(dsh_m_obs), 2))).values\n",
    "\n",
    "                ax[i, k].fill_between(time, dsh_q[obs_var].isel(quantile=0), dsh_q[obs_var].isel(quantile=1), alpha=0.2, facecolor='k', label=r'$observed_{q0.2-0.8}$')\n",
    "                ax[i, k].fill_between(time, dsh_q[mod_var].isel(quantile=0), dsh_q[mod_var].isel(quantile=1), alpha=0.4, facecolor='tab:blue', label=r'$modeled_{q0.2-0.8}$')\n",
    "\n",
    "                ax[i, k].plot(time, dsh_m[mod_var], alpha=0.85, color='tab:blue', linewidth=2., label=r'$modeled_{mean}$')\n",
    "                ax[i, k].plot(time, dsh_m[obs_var], alpha=1.0, color='k', linewidth=1.3, label=r'$observed_{mean}$', linestyle='dotted')\n",
    "\n",
    "                ax[i, k].text(0.05, 0.95, f'r={cor:0.3f}, mef={mef:0.2f}', horizontalalignment='left', verticalalignment='top', transform=ax[i, k].transAxes, bbox=text_box)\n",
    "\n",
    "                if i == 0:\n",
    "                    ax[0, k].set_title(region, size=16)\n",
    "\n",
    "                ax[i, k].tick_params(axis='x', rotation=45)\n",
    "\n",
    "            ax[i, 0].set_ylabel(var.lower() + units, size=12)\n",
    "                \n",
    "\n",
    "        leg = ax[-1, 2].legend(loc='upper center', bbox_to_anchor=(0.5, -0.3), ncol=4, fontsize=14)\n",
    "        leg.set_title(label, prop={'size': 14, 'weight': 'heavy'})\n",
    "\n",
    "    for ax_ in ax.flat:\n",
    "        ax_.label_outer()\n",
    "    for ax_ in ax[:-1, :].flat:\n",
    "        ax_.xaxis.set_visible(False)\n",
    "    for ax_ in ax[:, 1:].flat:\n",
    "        ax_.yaxis.set_visible(False)\n",
    "    if ts == '_msc':\n",
    "        for ax_ in ax[-1, :].flat:\n",
    "            for label in ax_.xaxis.get_ticklabels()[1::2]:\n",
    "                label.set_visible(False)\n",
    "\n",
    "    fig.patch.set_alpha(0)\n",
    "    fig.align_ylabels(ax[:, 0])\n",
    "    if path is not None:\n",
    "        fig.savefig(path, dpi=300, bbox_inches='tight')\n",
    "\n",
    "data_units= {\n",
    "    'swe': 'mm',\n",
    "    'et': 'mm d-1',\n",
    "    'q': 'mm d-1',\n",
    "    'tws': 'mm',\n",
    "    'winp': 'mm d-1',\n",
    "    'qf': 'mm d-1',\n",
    "    'qb': 'mm d-1',\n",
    "    'smrec': 'mm d-1',\n",
    "    'gwrec': 'mm d-1',\n",
    "    'gw': 'mm',\n",
    "    'cwd': 'mm',\n",
    "    'cwd_overflow': 'mm d-1',\n",
    "    'qf_frac': '-',\n",
    "    'smrec_frac': '-',\n",
    "    'gwrec_frac': '-',\n",
    "    'cwd_overflow_qf_frac': '-',\n",
    "    'smelt': 'mm d-1',\n",
    "    'sacc': 'mm d-1',\n",
    "    'sfrac': '-',\n",
    "    'ef': '-',\n",
    "    'prec': 'mm d-1',\n",
    "    'rn': 'w m-2 d-1',\n",
    "    'tair': 'K'\n",
    "}\n",
    "\n",
    "cr = xr.open_dataset('/workspace/hydrodl/data/processed/1d/static/clusterRegions.nc')\n",
    "regions = ['Subtropic', 'TemperateNH', 'Tropic', 'ColdNH', 'SH']\n",
    "regions_lookup = {\n",
    "    'SH': 5,\n",
    "    'Tropic': 3,\n",
    "    'Subtropic': 1,\n",
    "    'TemperateNH': 2,\n",
    "    'ColdNH': 4\n",
    "}\n",
    "\n",
    "def coords2samp(path, cr, write_file=True, data_vars=None, **kwargs):\n",
    "    ds = xr.open_dataset(path, **kwargs)\n",
    "    if data_vars:\n",
    "        ds = ds[data_vars]\n",
    "    mask_path = os.path.join(os.path.dirname(path), 'cv_masks.nc').replace('predictions_spinup', 'predictions')\n",
    "    m = xr.open_dataset(mask_path).test\n",
    "    ds['regions'] = cr.regions * m\n",
    "    ds = ds.stack(sample=('lat', 'lon')).reset_index('sample')\n",
    "    ds = ds.where(ds.regions > 0, drop=True)\n",
    "    ds['sample'] = np.arange(len(ds.sample))\n",
    "    #for k, v in data_units.items():\n",
    "    #    ds[k].attrs['units']: v\n",
    "    if write_file:\n",
    "        ds.to_netcdf(path.replace('.nc', 'regions.nc'))\n",
    "    else:\n",
    "        return ds\n",
    "\n",
    "class PathIter(object):\n",
    "    def __init__(self, pred_path):\n",
    "        self.pred_path = pred_path\n",
    "        pass\n",
    "    def iter_offsets_star(self):\n",
    "        for offset in ['10', '01', '11']:\n",
    "            path = f'{self.pred_path}pred_{offset}_*/{filename}'\n",
    "            yield path\n",
    "    def iter_offsets(self, filename):\n",
    "        for offset in ['10', '01', '11']:\n",
    "        #for offset in ['10', '01']:\n",
    "            folds = []\n",
    "            for fold in range(5):\n",
    "                path = f'{self.pred_path}pred_{offset}_{fold}/{filename}'\n",
    "                folds.append(path)\n",
    "            yield folds\n",
    "    def iter_paths(self):\n",
    "        for offset in ['10', '01', '11']:\n",
    "            for fold in range(5):\n",
    "                path = f'{self.pred_path}pred_{offset}_{fold}/{filename}'\n",
    "                yield path\n",
    "\n",
    "def preproc(ds):\n",
    "\n",
    "    offset_lookup = {\n",
    "        '01': 0,\n",
    "        '10': 1,\n",
    "        '11': 2\n",
    "    }\n",
    "\n",
    "    filepath = ds.encoding['souegionsce']\n",
    "\n",
    "    offset_fold = filepath.split('pred_')[1]\n",
    "    offset = offset_lookup[offset_fold[:2]]\n",
    "    fold = int(offset_fold[3])\n",
    "\n",
    "    ds = ds.expand_dims(dim={'fold': [fold]})\n",
    "    ds = ds.expand_dims(dim={'offset': [offset]})\n",
    "\n",
    "    return ds\n",
    "\n",
    "def preproc_aggr(ds):\n",
    "    ds = preproc(ds)\n",
    "\n",
    "    ds_new_list = []\n",
    "    regions_list = []\n",
    "    for r, r_i in regions_lookup.items():\n",
    "        regions_list.append(r)\n",
    "        ds_r = ds.where(ds.regions==r_i)\n",
    "        ds_new = ds_r.mean('sample', keep_attrs=True)\n",
    "        for var in data_units.keys():\n",
    "            ds_new[var + '_q'] = xr_quantile(ds_r[var], [0.2, 0.5, 0.8], dim='sample')\n",
    "        for k, v in data_units.items():\n",
    "            ds_new[k].attrs['units']: v\n",
    "            ds_new[k + '_q'].attrs['units']: v\n",
    "        ds_new_list.append(ds_new)\n",
    "    ds_combined = xr.combine_nested(ds_new_list, concat_dim='region')\n",
    "    ds_combined['region'] = regions_list\n",
    "    return ds_combined"
   ]
  },
  {
   "cell_type": "code",
   "execution_count": null,
   "metadata": {},
   "outputs": [
    {
     "name": "stderr",
     "output_type": "stream",
     "text": [
      "2020-07-05 14:26:41,350\tINFO resource_spec.py:212 -- Starting Ray with 325.1 GiB memory available for workers and up to 143.34 GiB for objects. You can adjust these settings with ray.init(memory=<bytes>, object_store_memory=<bytes>).\n"
     ]
    },
    {
     "name": "stdout",
     "output_type": "stream",
     "text": [
      "2020-07-05 14:26:41 - Parallel execution of function `coords2samp` using 6 CPUs with 15 total runs.\n"
     ]
    },
    {
     "name": "stderr",
     "output_type": "stream",
     "text": [
      "2020-07-05 14:26:41,599\tWARNING services.py:939 -- Redis failed to start, retrying now.\n",
      "2020-07-05 14:26:41,923\tINFO services.py:1181 -- View the Ray dashboard at \u001b[1m\u001b[32mlocalhost:8265\u001b[39m\u001b[22m\n"
     ]
    },
    {
     "name": "stdout",
     "output_type": "stream",
     "text": [
      "\u001b[2m\u001b[33m(pid=raylet)\u001b[0m I0705 14:26:41.977524 81106 81106 store_runner.cc:44] Allowing the Plasma store to use up to 153.91GB of memory.\n",
      "\u001b[2m\u001b[33m(pid=raylet)\u001b[0m I0705 14:26:41.977593 81106 81106 store_runner.cc:58] Starting object store with directory /dev/shm and huge page support dismelted\n",
      "\u001b[2m\u001b[33m(pid=raylet)\u001b[0m I0705 14:26:41.978834 81106 81106 grpc_server.cc:74] ObjectManager server started, listening on port 42833.\n",
      "\u001b[2m\u001b[33m(pid=raylet)\u001b[0m I0705 14:26:41.994899 81106 81106 node_manager.cc:166] Initializing NodeManager with ID da1cbc91fac8d32b52b388f82ceb368690e2c53a\n",
      "\u001b[2m\u001b[33m(pid=raylet)\u001b[0m I0705 14:26:41.995299 81106 81106 grpc_server.cc:74] NodeManager server started, listening on port 45847.\n",
      "\u001b[2m\u001b[33m(pid=raylet)\u001b[0m I0705 14:26:41.999208 81106 81106 service_based_accessor.cc:739] Received notification for node id = da1cbc91fac8d32b52b388f82ceb368690e2c53a, IsAlive = 1\n",
      "2020-07-05 14:27:05 - Done, elapsed time: 0 m 24 s (0 m 1 s per call).\n"
     ]
    }
   ],
   "source": [
    "pred_path = '/scratch/hydrodl/experiments/hybrid/all_vars_task_weighting/cv/predictions/'\n",
    "\n",
    "paths = []\n",
    "i = 0\n",
    "for offset_i, offset in enumerate(['10', '01', '11']):\n",
    "    for fold in range(5):\n",
    "        path = f'{pred_path}pred_{offset}_{fold}/daily_pred.nc'\n",
    "        paths.append({'path': path})\n",
    "        i += 1\n",
    "\n",
    "pathiter = PathIter(pred_path)\n",
    "parcall(coords2samp, paths, cr=cr, num_cpus=6, write_file=True, chunks={'time': 400});\n",
    "ds = [xr.open_mfdataset(p, combine='by_coords', preprocess=preproc_aggr, chunks={'time': 400}) for p in pathiter.iter_offsets('daily_predregions.nc')]\n",
    "xr.combine_by_coords(ds).to_netcdf(f'{pred_path}daily_metrics_combined.nc')"
   ]
  },
  {
   "cell_type": "code",
   "execution_count": null,
   "metadata": {},
   "outputs": [],
   "source": [
    "pred_path = '/scratch/hydrodl/experiments/hybrid/all_vars_task_weighting/cv/predictions_spinup/'\n",
    "\n",
    "paths = []\n",
    "i = 0\n",
    "for offset_i, offset in enumerate(['10', '01', '11']):\n",
    "    for fold in range(5):\n",
    "        path = f'{pred_path}pred_{offset}_{fold}/daily_pred.nc'\n",
    "        paths.append({'path': path})\n",
    "        i += 1"
   ]
  },
  {
   "cell_type": "code",
   "execution_count": null,
   "metadata": {},
   "outputs": [],
   "source": [
    "pathiter = PathIter(pred_path)\n",
    "parcall(coords2samp, paths, cr=cr, num_cpus=6, write_file=True, chunks={'time': 400});\n",
    "ds = [xr.open_mfdataset(p, combine='by_coords', preprocess=preproc_aggr, chunks={'time': 400}) for p in pathiter.iter_offsets('daily_predregions.nc')]\n",
    "# xr.combine_by_coords(ds).to_netcdf(f'{pred_path}daily_metrics_combined.nc')"
   ]
  }
 ],
 "metadata": {
  "kernelspec": {
   "display_name": "Python 3",
   "language": "python",
   "name": "python3"
  },
  "language_info": {
   "codemirror_mode": {
    "name": "ipython",
    "version": 3
   },
   "file_extension": ".py",
   "mimetype": "text/x-python",
   "name": "python",
   "nbconvert_exporter": "python",
   "pygments_lexer": "ipython3",
   "version": "3.6.9"
  }
 },
 "nbformat": 4,
 "nbformat_minor": 4
}
